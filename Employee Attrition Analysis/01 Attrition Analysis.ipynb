{
 "cells": [
  {
   "cell_type": "code",
   "execution_count": 1,
   "id": "162222b0-789d-4034-9d35-1bace230b9d7",
   "metadata": {},
   "outputs": [],
   "source": [
    "import findspark\n",
    "findspark.init('C:/applications/spark/spark-3.2.4-bin-hadoop2.7')"
   ]
  },
  {
   "cell_type": "code",
   "execution_count": 2,
   "id": "4b67d2b6-51b3-412e-a0cc-050341590844",
   "metadata": {},
   "outputs": [],
   "source": [
    "import pandas as pd\n",
    "import numpy as np\n",
    "from datetime import date, timedelta, datetime\n",
    "import time\n",
    "\n",
    "import pyspark # only run this after findspark.init()\n",
    "from pyspark.sql import SparkSession, SQLContext\n",
    "from pyspark.context import SparkContext\n",
    "from pyspark.sql.functions import * \n",
    "from pyspark.sql.types import * "
   ]
  },
  {
   "cell_type": "code",
   "execution_count": 3,
   "id": "e7240386-8876-47f7-828c-a21b95705f20",
   "metadata": {},
   "outputs": [],
   "source": [
    "# Initiate the Spark Session\n",
    "spark = SparkSession.builder.getOrCreate()"
   ]
  },
  {
   "cell_type": "code",
   "execution_count": 4,
   "id": "75cc9870-b87d-4bb1-97fa-59ad0931a4a8",
   "metadata": {},
   "outputs": [
    {
     "data": {
      "text/html": [
       "\n",
       "            <div>\n",
       "                <p><b>SparkSession - in-memory</b></p>\n",
       "                \n",
       "        <div>\n",
       "            <p><b>SparkContext</b></p>\n",
       "\n",
       "            <p><a href=\"http://DESKTOP-44B0NR7:4040\">Spark UI</a></p>\n",
       "\n",
       "            <dl>\n",
       "              <dt>Version</dt>\n",
       "                <dd><code>v3.2.4</code></dd>\n",
       "              <dt>Master</dt>\n",
       "                <dd><code>local[*]</code></dd>\n",
       "              <dt>AppName</dt>\n",
       "                <dd><code>pyspark-shell</code></dd>\n",
       "            </dl>\n",
       "        </div>\n",
       "        \n",
       "            </div>\n",
       "        "
      ],
      "text/plain": [
       "<pyspark.sql.session.SparkSession at 0x20630a57150>"
      ]
     },
     "execution_count": 4,
     "metadata": {},
     "output_type": "execute_result"
    }
   ],
   "source": [
    "spark"
   ]
  },
  {
   "cell_type": "code",
   "execution_count": 5,
   "id": "d1fbbc87-bc07-4743-a544-39abf3f7889c",
   "metadata": {},
   "outputs": [],
   "source": [
    "df = spark.read.csv(\"C:/Users/sonpal/Downloads/HR_Analytics.csv\",header=True,inferSchema=True)"
   ]
  },
  {
   "cell_type": "code",
   "execution_count": 6,
   "id": "bc842d18-b714-401a-b821-0b90b90aecda",
   "metadata": {},
   "outputs": [
    {
     "name": "stdout",
     "output_type": "stream",
     "text": [
      "root\n",
      " |-- EmpID: string (nullable = true)\n",
      " |-- Age: integer (nullable = true)\n",
      " |-- AgeGroup: string (nullable = true)\n",
      " |-- Attrition: string (nullable = true)\n",
      " |-- BusinessTravel: string (nullable = true)\n",
      " |-- DailyRate: integer (nullable = true)\n",
      " |-- Department: string (nullable = true)\n",
      " |-- DistanceFromHome: integer (nullable = true)\n",
      " |-- Education: integer (nullable = true)\n",
      " |-- EducationField: string (nullable = true)\n",
      " |-- EmployeeCount: integer (nullable = true)\n",
      " |-- EmployeeNumber: integer (nullable = true)\n",
      " |-- EnvironmentSatisfaction: integer (nullable = true)\n",
      " |-- Gender: string (nullable = true)\n",
      " |-- HourlyRate: integer (nullable = true)\n",
      " |-- JobInvolvement: integer (nullable = true)\n",
      " |-- JobLevel: integer (nullable = true)\n",
      " |-- JobRole: string (nullable = true)\n",
      " |-- JobSatisfaction: integer (nullable = true)\n",
      " |-- MaritalStatus: string (nullable = true)\n",
      " |-- MonthlyIncome: integer (nullable = true)\n",
      " |-- SalarySlab: string (nullable = true)\n",
      " |-- MonthlyRate: integer (nullable = true)\n",
      " |-- NumCompaniesWorked: integer (nullable = true)\n",
      " |-- Over18: string (nullable = true)\n",
      " |-- OverTime: string (nullable = true)\n",
      " |-- PercentSalaryHike: integer (nullable = true)\n",
      " |-- PerformanceRating: integer (nullable = true)\n",
      " |-- RelationshipSatisfaction: integer (nullable = true)\n",
      " |-- StandardHours: integer (nullable = true)\n",
      " |-- StockOptionLevel: integer (nullable = true)\n",
      " |-- TotalWorkingYears: integer (nullable = true)\n",
      " |-- TrainingTimesLastYear: integer (nullable = true)\n",
      " |-- WorkLifeBalance: integer (nullable = true)\n",
      " |-- YearsAtCompany: integer (nullable = true)\n",
      " |-- YearsInCurrentRole: integer (nullable = true)\n",
      " |-- YearsSinceLastPromotion: integer (nullable = true)\n",
      " |-- YearsWithCurrManager: integer (nullable = true)\n",
      "\n"
     ]
    }
   ],
   "source": [
    "df.printSchema()"
   ]
  },
  {
   "cell_type": "markdown",
   "id": "cf7f8db6-90bf-4e4c-8e49-fe5805fea10b",
   "metadata": {},
   "source": [
    "## Calculate the PowerBI Dashboard API"
   ]
  },
  {
   "cell_type": "markdown",
   "id": "04be43ed-0b26-4f06-bde8-0b4712fa119d",
   "metadata": {},
   "source": [
    "**1. Employee Count**"
   ]
  },
  {
   "cell_type": "markdown",
   "id": "5d232948-baca-4885-b927-5c141407670d",
   "metadata": {},
   "source": [
    "Count the number of employee in the Organization"
   ]
  },
  {
   "cell_type": "code",
   "execution_count": 7,
   "id": "4f052e38-1caa-4495-b291-5157b25c0a9b",
   "metadata": {},
   "outputs": [],
   "source": [
    "emp_count = df.count()"
   ]
  },
  {
   "cell_type": "code",
   "execution_count": 8,
   "id": "a00a3373-b088-4d3e-b733-59bfefc3cabf",
   "metadata": {},
   "outputs": [
    {
     "name": "stdout",
     "output_type": "stream",
     "text": [
      "Number of employee in the Organization: 1480\n"
     ]
    }
   ],
   "source": [
    "print(f\"Number of employee in the Organization: {emp_count}\")"
   ]
  },
  {
   "cell_type": "markdown",
   "id": "b913f45a-27ff-4242-b03a-c345d5985fda",
   "metadata": {},
   "source": [
    "**2. Attrition Count**"
   ]
  },
  {
   "cell_type": "markdown",
   "id": "453d3f92-3ba1-40af-af7f-fee6912cc902",
   "metadata": {},
   "source": [
    "No. of employee left the organization"
   ]
  },
  {
   "cell_type": "code",
   "execution_count": 9,
   "id": "ec7a527f-80ed-4bac-9f51-7d120487088a",
   "metadata": {},
   "outputs": [],
   "source": [
    "attrition_count = df.filter(col(\"Attrition\") == True).count()"
   ]
  },
  {
   "cell_type": "code",
   "execution_count": 10,
   "id": "65819bcd-4b16-4103-bb24-e2804b4e7117",
   "metadata": {},
   "outputs": [
    {
     "name": "stdout",
     "output_type": "stream",
     "text": [
      "Number of employee left the organization: 238\n"
     ]
    }
   ],
   "source": [
    "print(f\"Number of employee left the organization: {attrition_count}\")"
   ]
  },
  {
   "cell_type": "markdown",
   "id": "d0bc9b37-a16c-4a25-a0c2-ebca2770860c",
   "metadata": {},
   "source": [
    "**3. Attrition Rate**"
   ]
  },
  {
   "cell_type": "markdown",
   "id": "cf1826b6-15fc-410d-8ecb-c18f5e80f37c",
   "metadata": {},
   "source": [
    "% rate of attrition"
   ]
  },
  {
   "cell_type": "code",
   "execution_count": 11,
   "id": "4740818e-443d-487a-b288-37cdc9d6e574",
   "metadata": {},
   "outputs": [],
   "source": [
    "attri_rate = np.round((attrition_count/emp_count)*100,1)"
   ]
  },
  {
   "cell_type": "code",
   "execution_count": 12,
   "id": "4df88c9f-ea2d-4c25-a968-78d31823a4bf",
   "metadata": {},
   "outputs": [
    {
     "name": "stdout",
     "output_type": "stream",
     "text": [
      "Attrition Rate of the organization: 16.1\n"
     ]
    }
   ],
   "source": [
    "print(f\"Attrition Rate of the organization: {attri_rate}\")"
   ]
  },
  {
   "cell_type": "markdown",
   "id": "310dc436-48a9-4cad-9ffd-966253577b02",
   "metadata": {},
   "source": [
    "**4. Avg. age of emp**"
   ]
  },
  {
   "cell_type": "code",
   "execution_count": 13,
   "id": "dd2f7f87-8415-41bb-bd65-9491fbb2ea0a",
   "metadata": {},
   "outputs": [],
   "source": [
    "sum_of_attrition_emp_Age = df.filter(col(\"Attrition\")==True).agg({\"Age\": \"sum\"}).collect()[0][0]"
   ]
  },
  {
   "cell_type": "code",
   "execution_count": 14,
   "id": "8d3c6509-a863-41da-b560-ad69eb47107c",
   "metadata": {},
   "outputs": [
    {
     "data": {
      "text/plain": [
       "8015"
      ]
     },
     "execution_count": 14,
     "metadata": {},
     "output_type": "execute_result"
    }
   ],
   "source": [
    "sum_of_attrition_emp_Age"
   ]
  },
  {
   "cell_type": "code",
   "execution_count": 15,
   "id": "9bbb2ed2-1e61-4aab-8160-9ad3b70113b8",
   "metadata": {},
   "outputs": [],
   "source": [
    "Avg_Age = np.round((sum_of_attrition_emp_Age/attrition_count),1)"
   ]
  },
  {
   "cell_type": "code",
   "execution_count": 16,
   "id": "d8b61bd7-07a1-452b-a655-30682e87f25d",
   "metadata": {},
   "outputs": [
    {
     "name": "stdout",
     "output_type": "stream",
     "text": [
      "Avg age of attrition Emp : 33.7 year\n"
     ]
    }
   ],
   "source": [
    "print(f\"Avg age of attrition Emp : {Avg_Age} year\")"
   ]
  },
  {
   "cell_type": "markdown",
   "id": "247f1e35-dbe3-469a-9d43-f488acf845a5",
   "metadata": {},
   "source": [
    "**5. Avg. Salary of Attri. Emp.**"
   ]
  },
  {
   "cell_type": "code",
   "execution_count": 17,
   "id": "1d60a217-75e9-46ca-b441-ad3155c8b578",
   "metadata": {},
   "outputs": [],
   "source": [
    "# sum of employee salary those are left the organization\n",
    "total_salary = df.filter(col(\"Attrition\")==True).agg({\"MonthlyIncome\":\"sum\"}).collect()[0][0]"
   ]
  },
  {
   "cell_type": "code",
   "execution_count": 18,
   "id": "acd7bb35-67bf-47af-9c9a-08738db91027",
   "metadata": {},
   "outputs": [],
   "source": [
    "avg_Salary = np.round((total_salary/attrition_count)/1000,1)"
   ]
  },
  {
   "cell_type": "code",
   "execution_count": 19,
   "id": "9665dca7-c4d6-47cb-8b63-4c750a16d1f5",
   "metadata": {},
   "outputs": [
    {
     "name": "stdout",
     "output_type": "stream",
     "text": [
      "Avg salary of attrition Emp : 4.8k\n"
     ]
    }
   ],
   "source": [
    "print(f\"Avg salary of attrition Emp : {avg_Salary}k\")"
   ]
  },
  {
   "cell_type": "markdown",
   "id": "b64979da-b0d2-4a3a-a710-b85913055c78",
   "metadata": {},
   "source": [
    "**6. Avg. year**"
   ]
  },
  {
   "cell_type": "markdown",
   "id": "277b6a6b-abd0-456e-91cc-5b1207232990",
   "metadata": {},
   "source": [
    "what is the avg year of attrition employee work"
   ]
  },
  {
   "cell_type": "code",
   "execution_count": 20,
   "id": "00592c2f-6f84-4cd6-bf30-606f2fc67b78",
   "metadata": {},
   "outputs": [
    {
     "data": {
      "text/plain": [
       "1219"
      ]
     },
     "execution_count": 20,
     "metadata": {},
     "output_type": "execute_result"
    }
   ],
   "source": [
    "total_year = df.filter(col(\"Attrition\")==True).agg({\"YearsAtCompany\":\"sum\"}).collect()[0][0]\n",
    "total_year"
   ]
  },
  {
   "cell_type": "code",
   "execution_count": 21,
   "id": "fcd1cbd5-7141-4d14-8fc4-bbd44f5c16e5",
   "metadata": {},
   "outputs": [
    {
     "data": {
      "text/plain": [
       "1219"
      ]
     },
     "execution_count": 21,
     "metadata": {},
     "output_type": "execute_result"
    }
   ],
   "source": [
    "# spark_sql\n",
    "df.createOrReplaceTempView(\"employee_data\")\n",
    "\n",
    "# Execute a Spark SQL query to calculate the sum of \"YearsAtCompany\" where \"Attrition\" is true\n",
    "result = spark.sql(\"SELECT SUM(YearsAtCompany) as total_year FROM employee_data WHERE Attrition = true\")\n",
    "result.collect()[0][0]"
   ]
  },
  {
   "cell_type": "code",
   "execution_count": 22,
   "id": "b320b229-deaf-4ae9-bd8a-9f316d70b35f",
   "metadata": {},
   "outputs": [
    {
     "name": "stdout",
     "output_type": "stream",
     "text": [
      "Average year attrition emp work: 5.1 year\n"
     ]
    }
   ],
   "source": [
    "# average year attrition emp work\n",
    "avg_year = np.round((total_year/attrition_count),1)\n",
    "print(f\"Average year attrition emp work: {avg_year} year\")"
   ]
  },
  {
   "cell_type": "markdown",
   "id": "b14a15d8-94b0-4dad-b5d8-8e621f588bc8",
   "metadata": {},
   "source": [
    "**7. visualize graph show the attrition year wise**"
   ]
  },
  {
   "cell_type": "code",
   "execution_count": 23,
   "id": "fe1c5cad-d064-4c02-84bf-58094413d4f2",
   "metadata": {},
   "outputs": [],
   "source": [
    "grouped_df = df.filter(col('Attrition')==True).groupby('YearsAtCompany').count().orderBy(desc('YearsAtCompany'))"
   ]
  },
  {
   "cell_type": "code",
   "execution_count": 24,
   "id": "44845b19-5130-4d7d-b0dc-bec4a8456d64",
   "metadata": {},
   "outputs": [],
   "source": [
    "new_df = grouped_df.select('YearsAtCompany', 'count').withColumnRenamed('count', 'rowCount')"
   ]
  },
  {
   "cell_type": "code",
   "execution_count": 25,
   "id": "a51ae785-3318-42fb-956c-54f8db76a348",
   "metadata": {},
   "outputs": [],
   "source": [
    "new_data = new_df.orderBy(asc('YearsAtCompany')).limit(11)"
   ]
  },
  {
   "cell_type": "code",
   "execution_count": 26,
   "id": "9fbca11a-8ae1-409e-8a62-c9695a73c767",
   "metadata": {},
   "outputs": [],
   "source": [
    "final_data = new_data.select('YearsAtCompany','rowCount').withColumnRenamed('rowCount','count')"
   ]
  },
  {
   "cell_type": "code",
   "execution_count": 27,
   "id": "cfa495a9-8980-462a-a4bb-9d563f9647b8",
   "metadata": {},
   "outputs": [
    {
     "name": "stdout",
     "output_type": "stream",
     "text": [
      "+--------------+-----+\n",
      "|YearsAtCompany|count|\n",
      "+--------------+-----+\n",
      "|             0|   16|\n",
      "|             1|   59|\n",
      "|             2|   27|\n",
      "|             3|   21|\n",
      "|             4|   19|\n",
      "|             5|   21|\n",
      "|             6|    9|\n",
      "|             7|   11|\n",
      "|             8|    9|\n",
      "|             9|    8|\n",
      "|            10|   18|\n",
      "+--------------+-----+\n",
      "\n"
     ]
    }
   ],
   "source": [
    "final_data.show()"
   ]
  },
  {
   "cell_type": "code",
   "execution_count": 28,
   "id": "027e84ed-acd1-44c5-8983-e08a14a18920",
   "metadata": {},
   "outputs": [
    {
     "data": {
      "image/png": "[encoded data removed]",
      "text/plain": [
       "<Figure size 1000x300 with 1 Axes>"
      ]
     },
     "metadata": {},
     "output_type": "display_data"
    }
   ],
   "source": [
    "pandas_df = final_data.toPandas()\n",
    "\n",
    "import matplotlib.pyplot as plt\n",
    "# Sort Pandas DataFrame by 'YearsAtCompany'\n",
    "pandas_df = pandas_df.sort_values(by='YearsAtCompany')\n",
    "line_color = (189/255, 60/255, 17/255)\n",
    "area_color = (247/255, 175/255, 151/255,0.5)\n",
    "background_color = (133/255, 28/255, 85/255)\n",
    "# Plotting\n",
    "fig, ax = plt.subplots(figsize=(10, 3))\n",
    "ax.set_facecolor(background_color)\n",
    "#plt.figure(figsize=(10, 3))\n",
    "plt.plot(pandas_df['YearsAtCompany'], pandas_df['count'], marker='s',mfc='white',mec='white', linestyle='-', color=line_color)\n",
    "plt.fill_between(pandas_df['YearsAtCompany'], pandas_df['count'], color=area_color)\n",
    "plt.title('Count of Employees by YearsAtCompany')\n",
    "plt.xlabel('YearsAtCompany')\n",
    "plt.ylabel('Count')\n",
    "plt.show()"
   ]
  },
  {
   "cell_type": "code",
   "execution_count": null,
   "id": "aeb06cc5-94a4-40da-88ea-b3ebc3982dbc",
   "metadata": {},
   "outputs": [],
   "source": []
  },
  {
   "cell_type": "code",
   "execution_count": null,
   "id": "09caf938-62fe-49dd-bd06-f0c8806c5793",
   "metadata": {},
   "outputs": [],
   "source": []
  },
  {
   "cell_type": "markdown",
   "id": "db9a766a-d610-4828-8497-2587ea23af7f",
   "metadata": {},
   "source": [
    "**8. show the graph attrition basis on Department**"
   ]
  },
  {
   "cell_type": "code",
   "execution_count": 29,
   "id": "a989c8ad-a52a-4939-86d0-047fa815b64d",
   "metadata": {},
   "outputs": [],
   "source": [
    "dept_df = df.filter(col('Attrition')==True).groupby('EducationField').count()"
   ]
  },
  {
   "cell_type": "code",
   "execution_count": 30,
   "id": "7b4e004e-a978-434e-8304-7d1fad148b48",
   "metadata": {},
   "outputs": [],
   "source": [
    "new_dept = dept_df.select('EducationField','count').withColumnRenamed('EducationField','Department')"
   ]
  },
  {
   "cell_type": "code",
   "execution_count": 31,
   "id": "6c62c797-dc50-4775-9a62-995638a7700e",
   "metadata": {},
   "outputs": [
    {
     "name": "stdout",
     "output_type": "stream",
     "text": [
      "+----------------+-----+\n",
      "|      Department|count|\n",
      "+----------------+-----+\n",
      "|Technical Degree|   32|\n",
      "|           Other|   11|\n",
      "|       Marketing|   36|\n",
      "|         Medical|   63|\n",
      "|   Life Sciences|   89|\n",
      "| Human Resources|    7|\n",
      "+----------------+-----+\n",
      "\n"
     ]
    }
   ],
   "source": [
    "new_dept.show()"
   ]
  },
  {
   "cell_type": "code",
   "execution_count": 32,
   "id": "910367f6-5c19-4394-8d18-19419dfeff9e",
   "metadata": {},
   "outputs": [
    {
     "data": {
      "text/html": [
       "<div>\n",
       "<style scoped>\n",
       "    .dataframe tbody tr th:only-of-type {\n",
       "        vertical-align: middle;\n",
       "    }\n",
       "\n",
       "    .dataframe tbody tr th {\n",
       "        vertical-align: top;\n",
       "    }\n",
       "\n",
       "    .dataframe thead th {\n",
       "        text-align: right;\n",
       "    }\n",
       "</style>\n",
       "<table border=\"1\" class=\"dataframe\">\n",
       "  <thead>\n",
       "    <tr style=\"text-align: right;\">\n",
       "      <th></th>\n",
       "      <th>Department</th>\n",
       "      <th>count</th>\n",
       "    </tr>\n",
       "  </thead>\n",
       "  <tbody>\n",
       "    <tr>\n",
       "      <th>0</th>\n",
       "      <td>Technical Degree</td>\n",
       "      <td>32</td>\n",
       "    </tr>\n",
       "    <tr>\n",
       "      <th>1</th>\n",
       "      <td>Other</td>\n",
       "      <td>11</td>\n",
       "    </tr>\n",
       "    <tr>\n",
       "      <th>2</th>\n",
       "      <td>Marketing</td>\n",
       "      <td>36</td>\n",
       "    </tr>\n",
       "    <tr>\n",
       "      <th>3</th>\n",
       "      <td>Medical</td>\n",
       "      <td>63</td>\n",
       "    </tr>\n",
       "    <tr>\n",
       "      <th>4</th>\n",
       "      <td>Life Sciences</td>\n",
       "      <td>89</td>\n",
       "    </tr>\n",
       "  </tbody>\n",
       "</table>\n",
       "</div>"
      ],
      "text/plain": [
       "         Department  count\n",
       "0  Technical Degree     32\n",
       "1             Other     11\n",
       "2         Marketing     36\n",
       "3           Medical     63\n",
       "4     Life Sciences     89"
      ]
     },
     "execution_count": 32,
     "metadata": {},
     "output_type": "execute_result"
    }
   ],
   "source": [
    "dept_pd = new_dept.toPandas()\n",
    "dept_pd.head()"
   ]
  },
  {
   "cell_type": "code",
   "execution_count": 33,
   "id": "655e248d-4bcc-4496-b58c-5a0e9f0795bd",
   "metadata": {},
   "outputs": [
    {
     "name": "stderr",
     "output_type": "stream",
     "text": [
      "C:\\Users\\sonpal\\AppData\\Local\\Temp\\ipykernel_5492\\2060693767.py:9: UserWarning: Setting the 'color' property will override the edgecolor or facecolor properties.\n",
      "  centre_circle = plt.Circle((0, 0), 0.2, color='white', edgecolor='black', linewidth=0.8)\n"
     ]
    },
    {
     "data": {
      "image/png": "[encoded data removed]",
      "text/plain": [
       "<Figure size 400x400 with 1 Axes>"
      ]
     },
     "metadata": {},
     "output_type": "display_data"
    }
   ],
   "source": [
    "# Plotting a donut chart\n",
    "plt.figure(figsize=(4, 4))\n",
    "\n",
    "# Outer ring (Donut)\n",
    "plt.pie(dept_pd['count'], labels=dept_pd['Department'], autopct='%1.0f%%', startangle=28,\n",
    "        wedgeprops=dict(width=0.4))\n",
    "\n",
    "# Inner circle (White center)\n",
    "centre_circle = plt.Circle((0, 0), 0.2, color='white', edgecolor='black', linewidth=0.8)\n",
    "plt.gca().add_artist(centre_circle)\n",
    "plt.show()"
   ]
  },
  {
   "cell_type": "code",
   "execution_count": null,
   "id": "2555b87b-ed50-45cd-8003-68b8469c203e",
   "metadata": {},
   "outputs": [],
   "source": []
  },
  {
   "cell_type": "code",
   "execution_count": null,
   "id": "fd3397a5-c005-4941-b274-5810054106f9",
   "metadata": {},
   "outputs": [],
   "source": []
  },
  {
   "cell_type": "markdown",
   "id": "1b4241ec-5d9d-40ec-bb8d-b5919a6de244",
   "metadata": {},
   "source": [
    "**9. Attrition By Salary show using graph**"
   ]
  },
  {
   "cell_type": "code",
   "execution_count": 34,
   "id": "c0812353-3203-468a-8c17-a9ce5bcab2f3",
   "metadata": {},
   "outputs": [],
   "source": [
    "sal_df = df.filter(col('Attrition')==True).orderBy('MonthlyIncome')"
   ]
  },
  {
   "cell_type": "code",
   "execution_count": 35,
   "id": "eb44a219-46d4-4cd6-ac14-4b485ec99104",
   "metadata": {},
   "outputs": [],
   "source": [
    "new_sal = sal_df.select('MonthlyIncome').withColumnRenamed('MonthlyIncome','salary')"
   ]
  },
  {
   "cell_type": "code",
   "execution_count": 36,
   "id": "4147b9d3-02c2-40a4-957b-c434263652ca",
   "metadata": {},
   "outputs": [],
   "source": [
    "sal_pd = new_sal.toPandas()"
   ]
  },
  {
   "cell_type": "code",
   "execution_count": 37,
   "id": "8db0643d-b650-4b4d-8b77-10ab12c1975a",
   "metadata": {},
   "outputs": [
    {
     "name": "stdout",
     "output_type": "stream",
     "text": [
      "salary_range\n",
      "Below 5k      163\n",
      "5k to 10k      49\n",
      "10k to 15k     21\n",
      "15k+            5\n",
      "Name: count, dtype: int64\n"
     ]
    }
   ],
   "source": [
    "bins = [0, 5000, 10000, 15000, float('inf')]\n",
    "labels = ['Below 5k', '5k to 10k', '10k to 15k', '15k+']\n",
    "\n",
    "# Add a new column 'salary_range' to the DataFrame based on the salary bins\n",
    "sal_pd['salary_range'] = pd.cut(sal_pd['salary'], bins=bins, labels=labels, right=False)\n",
    "\n",
    "# Count the number of data points in each salary range\n",
    "count_by_range = sal_pd['salary_range'].value_counts().sort_index()\n",
    "\n",
    "# Display the result\n",
    "print(count_by_range)"
   ]
  },
  {
   "cell_type": "code",
   "execution_count": 41,
   "id": "0e8f7533-23a8-4d9c-955b-c08b9245ba1c",
   "metadata": {},
   "outputs": [
    {
     "data": {
      "image/png": "[encoded data removed]",
      "text/plain": [
       "<Figure size 800x200 with 1 Axes>"
      ]
     },
     "metadata": {},
     "output_type": "display_data"
    }
   ],
   "source": [
    "colors = ['lightblue', 'lightgreen', 'lightcoral', 'lightsalmon']\n",
    "\n",
    "plt.figure(figsize=(8, 2))\n",
    "count_by_range.plot(kind='barh', color=colors)\n",
    "plt.title('Number of Data Points in Salary Ranges')\n",
    "plt.xlabel('Count')\n",
    "plt.ylabel('Salary Range')\n",
    "\n",
    "\n",
    "# Display count values on each bar\n",
    "for i, count in enumerate(count_by_range):\n",
    "    plt.text(count + 1, i, str(count), va='center')\n",
    "\n",
    "plt.show()"
   ]
  },
  {
   "cell_type": "code",
   "execution_count": null,
   "id": "e020a57d-466f-4bad-9ea0-e9ce9b3c31bf",
   "metadata": {},
   "outputs": [],
   "source": []
  },
  {
   "cell_type": "code",
   "execution_count": null,
   "id": "f8ae5c7a-2ac1-4e55-960a-a8afff7fc6b7",
   "metadata": {},
   "outputs": [],
   "source": []
  },
  {
   "cell_type": "code",
   "execution_count": null,
   "id": "082cb6ba-3ebb-4790-8166-7bf6cf5e4423",
   "metadata": {},
   "outputs": [],
   "source": []
  }
 ],
 "metadata": {
  "kernelspec": {
   "display_name": "Python 3 (ipykernel)",
   "language": "python",
   "name": "python3"
  },
  "language_info": {
   "codemirror_mode": {
    "name": "ipython",
    "version": 3
   },
   "file_extension": ".py",
   "mimetype": "text/x-python",
   "name": "python",
   "nbconvert_exporter": "python",
   "pygments_lexer": "ipython3",
   "version": "3.11.0"
  }
 },
 "nbformat": 4,
 "nbformat_minor": 5
}
